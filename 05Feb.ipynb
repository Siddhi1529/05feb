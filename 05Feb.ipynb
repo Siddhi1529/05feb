{
  "nbformat": 4,
  "nbformat_minor": 0,
  "metadata": {
    "colab": {
      "provenance": []
    },
    "kernelspec": {
      "name": "python3",
      "display_name": "Python 3"
    },
    "language_info": {
      "name": "python"
    }
  },
  "cells": [
    {
      "cell_type": "markdown",
      "source": [
        "Q1. Explain Class and Object with respect to Object-Oriented Programming. Give a suitable example.\n"
      ],
      "metadata": {
        "id": "EumG9SZM0w_h"
      }
    },
    {
      "cell_type": "markdown",
      "source": [
        "class - a class is a template that defines the structure of the objects created from the class will have.\n",
        "\n",
        "object - is an instance of a class, meaning it can perform actions defined by te methods of a class."
      ],
      "metadata": {
        "id": "8NwvZZlz1ktn"
      }
    },
    {
      "cell_type": "code",
      "source": [
        "class student:\n",
        "\n",
        "    # initialize the object attributes\n",
        "    def __init__(self, name, standard, number):\n",
        "        self.name = name   # Attribute for the name\n",
        "        self.standard = standard # Attribute for the standard\n",
        "        self.number = number   # Attribute for roll number\n",
        "\n",
        "    # display this information\n",
        "    def student_info(self):\n",
        "        print(f\"{self.name} {self.standard} {self.number}\")\n"
      ],
      "metadata": {
        "id": "NM7Nj8Zh0yNe"
      },
      "execution_count": 8,
      "outputs": []
    },
    {
      "cell_type": "code",
      "source": [
        "# creating an object\n",
        "my_info = student(\"Ben\", \"4th\", 17)\n",
        "\n",
        "# Calling the student_info method on the object\n",
        "my_info.student_info()\n"
      ],
      "metadata": {
        "colab": {
          "base_uri": "https://localhost:8080/"
        },
        "id": "YCranzDD2fCm",
        "outputId": "99fbabd6-1bbd-4a4a-8ccf-720b1504eacc"
      },
      "execution_count": 9,
      "outputs": [
        {
          "output_type": "stream",
          "name": "stdout",
          "text": [
            "Ben 4th 17\n"
          ]
        }
      ]
    },
    {
      "cell_type": "code",
      "source": [],
      "metadata": {
        "id": "m_N4x_kf3E2r"
      },
      "execution_count": null,
      "outputs": []
    },
    {
      "cell_type": "markdown",
      "source": [
        "Q2. Name the four pillars of OOPs.\n"
      ],
      "metadata": {
        "id": "AHJ9fXIF0yTc"
      }
    },
    {
      "cell_type": "markdown",
      "source": [
        "The four pillars of OOPs are -\n",
        "\n",
        "1. Encapsulation\n",
        "\n",
        "2. Abstraction\n",
        "\n",
        "3. Inheritance\n",
        "\n",
        "4. Polymorphism"
      ],
      "metadata": {
        "id": "bpAhVdhE3NR6"
      }
    },
    {
      "cell_type": "code",
      "source": [],
      "metadata": {
        "id": "2mLsOFAL0zKb"
      },
      "execution_count": null,
      "outputs": []
    },
    {
      "cell_type": "markdown",
      "source": [
        "Q3. Explain why the __init__() function is used. Give a suitable example.\n"
      ],
      "metadata": {
        "id": "MX6XRiS60zRc"
      }
    },
    {
      "cell_type": "markdown",
      "source": [
        "the init() is a constructor method and is called automatically when an object of a class is created and it is used to initialize the object's attributes with specific values."
      ],
      "metadata": {
        "id": "crCUXHJb3jWg"
      }
    },
    {
      "cell_type": "code",
      "source": [
        "class Person:\n",
        "    # The __init__ function initializes the attributes\n",
        "    def __init__(self, name, age):\n",
        "        self.name = name  # Initializing the 'name' attribute\n",
        "        self.age = age    # Initializing the 'age' attribute\n",
        "\n",
        "    # Method to display the person's information\n",
        "    def display_info(self):\n",
        "        print(f\"Name: {self.name}, Age: {self.age}\")\n"
      ],
      "metadata": {
        "id": "vki5gDfc00OQ"
      },
      "execution_count": 10,
      "outputs": []
    },
    {
      "cell_type": "code",
      "source": [
        "# Creating two Person objects\n",
        "person1 = Person(\"Ben\", 15)\n",
        "\n",
        "# Displaying the information for each person\n",
        "person1.display_info()\n"
      ],
      "metadata": {
        "colab": {
          "base_uri": "https://localhost:8080/"
        },
        "id": "8uAxevNW4Idg",
        "outputId": "a096a2f4-54c3-4d4a-f145-d46fed3a2a79"
      },
      "execution_count": 12,
      "outputs": [
        {
          "output_type": "stream",
          "name": "stdout",
          "text": [
            "Name: Ben, Age: 15\n"
          ]
        }
      ]
    },
    {
      "cell_type": "code",
      "source": [],
      "metadata": {
        "id": "IuSNKBA14TwS"
      },
      "execution_count": null,
      "outputs": []
    },
    {
      "cell_type": "markdown",
      "source": [
        "Q4. Why self is used in OOPs?\n"
      ],
      "metadata": {
        "id": "OQHnTnfL00Ud"
      }
    },
    {
      "cell_type": "markdown",
      "source": [
        "self -  is used within a class to refer to the instance of the object itself."
      ],
      "metadata": {
        "id": "riDutCDN6GgA"
      }
    },
    {
      "cell_type": "code",
      "source": [
        "class student:\n",
        "\n",
        "    # initialize the object attributes\n",
        "    def __init__(self, name, standard, number):\n",
        "        self.name = name   # Attribute - self.name\n",
        "        self.standard = standard # Attribute - self.standard\n",
        "        self.number = number   # Attribute - self.number\n"
      ],
      "metadata": {
        "id": "nq8COnVE01VG"
      },
      "execution_count": null,
      "outputs": []
    },
    {
      "cell_type": "code",
      "source": [],
      "metadata": {
        "id": "hRREdWny6Lwp"
      },
      "execution_count": null,
      "outputs": []
    },
    {
      "cell_type": "markdown",
      "source": [
        "Q5. What is inheritance? Give an example for each type of inheritance."
      ],
      "metadata": {
        "id": "IGrzyUpz01a_"
      }
    },
    {
      "cell_type": "markdown",
      "source": [
        "Inheritance in Object-Oriented Programming (OOP) is a mechanism that allows one class (child class) to inherit attributes and methods from another class (parent class)"
      ],
      "metadata": {
        "id": "sAHwx9VN7JNE"
      }
    },
    {
      "cell_type": "code",
      "source": [
        "# single inheritance\n",
        "class Animal:\n",
        "    def sound(self):\n",
        "        return \"Some sound\"\n",
        "\n",
        "class Dog(Animal):\n",
        "    def bark(self):\n",
        "        return \"Woof!\"\n",
        "\n",
        "# print\n",
        "dog = Dog()\n",
        "print(dog.sound())\n",
        "print(dog.bark())\n",
        "\n"
      ],
      "metadata": {
        "colab": {
          "base_uri": "https://localhost:8080/"
        },
        "id": "COHPS4DL01t0",
        "outputId": "a7b8a78a-c721-4231-c627-db1c63d66abc"
      },
      "execution_count": 14,
      "outputs": [
        {
          "output_type": "stream",
          "name": "stdout",
          "text": [
            "Some sound\n",
            "Woof!\n"
          ]
        }
      ]
    },
    {
      "cell_type": "code",
      "source": [
        "# multiple inheritance\n",
        "\n",
        "class Animal:\n",
        "    def sound(self):\n",
        "        return \"Some sound\"\n",
        "\n",
        "class Pet:\n",
        "    def play(self):\n",
        "        return \"Playing with pet toys\"\n",
        "\n",
        "class Dog(Animal, Pet):\n",
        "    def bark(self):\n",
        "        return \"Woof!\"\n",
        "\n",
        "# print\n",
        "dog = Dog()\n",
        "print(dog.sound())\n",
        "print(dog.play())\n",
        "print(dog.bark())\n",
        "\n"
      ],
      "metadata": {
        "colab": {
          "base_uri": "https://localhost:8080/"
        },
        "id": "wEARcJyS7c--",
        "outputId": "fd1fd878-bd69-4b9d-d390-731ea4ec26c2"
      },
      "execution_count": 19,
      "outputs": [
        {
          "output_type": "stream",
          "name": "stdout",
          "text": [
            "Some sound\n",
            "Playing with pet toys\n",
            "Woof!\n"
          ]
        }
      ]
    },
    {
      "cell_type": "code",
      "source": [
        "# multilevel inheritance\n",
        "\n",
        "class Animal:\n",
        "    def sound(self):\n",
        "        return \"Some sound\"\n",
        "\n",
        "class Dog(Animal):\n",
        "    def bark(self):\n",
        "        return \"Woof!\"\n",
        "\n",
        "class Puppy(Dog):\n",
        "    def cute_bark(self):\n",
        "        return \"Yip! Yip!\"\n",
        "\n",
        "# print\n",
        "puppy = Puppy()\n",
        "print(puppy.sound())\n",
        "print(puppy.bark())\n",
        "print(puppy.cute_bark())\n"
      ],
      "metadata": {
        "colab": {
          "base_uri": "https://localhost:8080/"
        },
        "id": "3IL3ftii7dCB",
        "outputId": "2f5d63a0-7358-4631-f037-7fcbe44519d5"
      },
      "execution_count": 20,
      "outputs": [
        {
          "output_type": "stream",
          "name": "stdout",
          "text": [
            "Some sound\n",
            "Woof!\n",
            "Yip! Yip!\n"
          ]
        }
      ]
    },
    {
      "cell_type": "code",
      "source": [
        "# hierarchical inheritance\n",
        "\n",
        "class Animal:\n",
        "    def sound(self):\n",
        "        return \"Some sound\"\n",
        "\n",
        "class Dog1(Animal):\n",
        "    def bark(self):\n",
        "        return \"Woof!\"\n",
        "\n",
        "class Dog2(Animal):\n",
        "    def meow(self):\n",
        "        return \"Woof, Woof,Woof!\"\n",
        "\n",
        "# print\n",
        "dog = Dog1()\n",
        "cat = Dog2()\n",
        "print(dog.sound())\n",
        "print(dog.bark())\n",
        "print(cat.sound())\n",
        "print(cat.meow())\n",
        "\n"
      ],
      "metadata": {
        "colab": {
          "base_uri": "https://localhost:8080/"
        },
        "id": "1gH6UrnG7dHH",
        "outputId": "016ee185-28c5-48d6-e164-7ed5879994a3"
      },
      "execution_count": 23,
      "outputs": [
        {
          "output_type": "stream",
          "name": "stdout",
          "text": [
            "Some sound\n",
            "Woof!\n",
            "Some sound\n",
            "Woof, Woof,Woof!\n"
          ]
        }
      ]
    },
    {
      "cell_type": "code",
      "source": [
        "# hybrid inheritance\n",
        "\n",
        "class Animal:\n",
        "    def sound(self):\n",
        "        return \"Some sound\"\n",
        "\n",
        "class Pet:\n",
        "    def play(self):\n",
        "        return \"Playing with pet toys\"\n",
        "\n",
        "class Dog1(Animal, Pet):\n",
        "    def bark(self):\n",
        "        return \"Woof!\"\n",
        "\n",
        "class Dog2(Animal):\n",
        "    def meow(self):\n",
        "        return \"Woof, Woof, Woof!\"\n",
        "\n",
        "class Dog1Dog2(Dog1, Dog2):\n",
        "    def mix_sound(self):\n",
        "        return \"Woof, Woof, Woof,Woof, Woof, Woof!\"\n",
        "\n",
        "# print\n",
        "dog1_dog2 = Dog1Dog2()\n",
        "print(dog1_dog2.sound())\n",
        "print(dog1_dog2.play())\n",
        "print(dog1_dog2.bark())\n",
        "print(dog1_dog2.meow())\n",
        "print(dog1_dog2.mix_sound())\n",
        "\n"
      ],
      "metadata": {
        "colab": {
          "base_uri": "https://localhost:8080/"
        },
        "id": "137Llivo7mXB",
        "outputId": "45dd154e-a841-49a4-cfa1-69640f0f8015"
      },
      "execution_count": 25,
      "outputs": [
        {
          "output_type": "stream",
          "name": "stdout",
          "text": [
            "Some sound\n",
            "Playing with pet toys\n",
            "Woof!\n",
            "Woof, Woof, Woof!\n",
            "Woof, Woof, Woof,Woof, Woof, Woof!\n"
          ]
        }
      ]
    }
  ]
}